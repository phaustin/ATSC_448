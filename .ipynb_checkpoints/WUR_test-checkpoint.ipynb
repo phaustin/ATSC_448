{
 "cells": [
  {
   "cell_type": "code",
   "execution_count": 1,
   "metadata": {},
   "outputs": [
    {
     "name": "stdout",
     "output_type": "stream",
     "text": [
      "{'type': 'Image', 'bands': [{'id': 'elevation', 'data_type': {'type': 'PixelType', 'precision': 'int', 'min': -32768, 'max': 32767}, 'dimensions': [432000, 144000], 'crs': 'EPSG:4326', 'crs_transform': [0.000833333333333, 0.0, -180.0, 0.0, -0.000833333333333, 60.0]}], 'version': 1494271934303000, 'id': 'srtm90_v4', 'properties': {'system:time_start': 950227200000, 'system:time_end': 951177600000, 'system:asset_size': 18827626666}}\n"
     ]
    }
   ],
   "source": [
    "# Import the Earth Engine Python Package\n",
    "import ee\n",
    "# Initialize the Earth Engine object, using the authentication credentials.\n",
    "ee.Initialize()\n",
    "# Print the information for an image asset.\n",
    "image = ee.Image('srtm90_v4')\n",
    "print(image.getInfo())"
   ]
  },
  {
   "cell_type": "code",
   "execution_count": 4,
   "metadata": {},
   "outputs": [
    {
     "name": "stdout",
     "output_type": "stream",
     "text": [
      "Starting to create a video\n",
      "Process sent to cloud\n"
     ]
    }
   ],
   "source": [
    "import ee\n",
    "from ee import batch\n",
    "## Initialize connection to server\n",
    "ee.Initialize()\n",
    "## Define your image collection \n",
    "collection = ee.ImageCollection('LANDSAT/LC8_L1T_TOA')\n",
    "## Define time range\n",
    "collection_time = collection.filterDate('2013-04-11', '2018-01-01') #YYYY-MM-DD\n",
    "## Select location based on location of tile\n",
    "path = collection_time.filter(ee.Filter.eq('WRS_PATH', 198))\n",
    "pathrow = path.filter(ee.Filter.eq('WRS_ROW', 24))\n",
    "# or via geographical location:\n",
    "#point_geom = ee.Geometry.Point(5, 52) #longitude, latitude\n",
    "#pathrow = collection_time.filterBounds(point_geom)\n",
    "## Select imagery with less then 5% of image covered by clouds\n",
    "clouds = pathrow.filter(ee.Filter.lt('CLOUD_COVER', 5))\n",
    "## Select bands\n",
    "bands = clouds.select(['B4', 'B3', 'B2'])\n",
    "## Make 8 bit data\n",
    "def convertBit(image):\n",
    "    return image.multiply(512).uint8()  \n",
    "## Convert bands to output video  \n",
    "outputVideo = bands.map(convertBit)\n",
    "print(\"Starting to create a video\")\n",
    "## Export video to Google Drive\n",
    "\n",
    "# out = batch.Export.video.toDrive(outputVideo, description ='Netherlands_video_region_L8_time', \n",
    "#                                  dimensions = 720, framesPerSecond = 2, \n",
    "#                                  region = ([5.588144,51.993435], \n",
    "#                                          [5.727906, 51.993435], \n",
    "#                                          [5.727906, 51.944356], \n",
    "#                                          [5.588144, 51.944356]), \n",
    "#                                  maxFrames = 10000, folder=\"ATSC_408\")\n",
    "## Process the image\n",
    "\n",
    "#process = batch.Task.start(out)\n",
    "print(\"Process sent to cloud\")"
   ]
  },
  {
   "cell_type": "code",
   "execution_count": 5,
   "metadata": {
    "scrolled": false
   },
   "outputs": [
    {
     "name": "stdout",
     "output_type": "stream",
     "text": [
      "Help on function toDrive in module ee.batch:\n",
      "\n",
      "toDrive(collection, description='myExportVideoTask', folder=None, fileNamePrefix=None, framesPerSecond=None, dimensions=None, region=None, scale=None, crs=None, crsTransform=None, maxPixels=None, maxFrames=None, **kwargs)\n",
      "    Creates a task to export an ImageCollection as a video to Drive.\n",
      "    \n",
      "    Args:\n",
      "      collection: The image collection to be exported. The collection must\n",
      "          only contain RGB images.\n",
      "      description: Human-readable name of the task.\n",
      "      folder: The name of a unique folder in your Drive account to\n",
      "          export into. Defaults to the root of the drive.\n",
      "      fileNamePrefix: The Google Drive filename for the export.\n",
      "          Defaults to the name of the task.\n",
      "      framesPerSecond: A number between .1 and 100 describing the\n",
      "          framerate of the exported video.\n",
      "      dimensions: The dimensions of the exported video. Takes either a\n",
      "          single positive integer as the maximum dimension or \"WIDTHxHEIGHT\"\n",
      "          where WIDTH and HEIGHT are each positive integers.\n",
      "      region: The lon,lat coordinates for a LinearRing or Polygon\n",
      "          specifying the region to export. Can be specified as a nested\n",
      "          lists of numbers or a serialized string. Defaults to the first\n",
      "          image's region.\n",
      "      scale: The resolution in meters per pixel.\n",
      "      crs: The coordinate reference system of the exported video's\n",
      "          projection. Defaults to SR-ORG:6627.\n",
      "      crsTransform: A comma-separated string of 6 numbers describing\n",
      "          the affine transform of the coordinate reference system of the\n",
      "          exported video's projection, in the order: xScale, yShearing,\n",
      "          xShearing, yScale, xTranslation and yTranslation. Defaults to\n",
      "          the image collection's native CRS transform.\n",
      "      maxPixels: The maximum number of pixels per frame.\n",
      "          Defaults to 1e8 pixels per frame. By setting this explicitly,\n",
      "          you may raise or lower the limit.\n",
      "      maxFrames: The maximum number of frames to export.\n",
      "          Defaults to 1000 frames. By setting this explicitly, you may\n",
      "          raise or lower the limit.\n",
      "      **kwargs: Holds other keyword arguments that may have been deprecated\n",
      "          such as 'crs_transform'.\n",
      "    \n",
      "    Returns:\n",
      "      An unstarted Task that exports the image collection to Drive.\n",
      "\n"
     ]
    }
   ],
   "source": [
    "help(batch.Export.video.toDrive)"
   ]
  },
  {
   "cell_type": "code",
   "execution_count": null,
   "metadata": {},
   "outputs": [],
   "source": []
  }
 ],
 "metadata": {
  "kernelspec": {
   "display_name": "Python 3",
   "language": "python",
   "name": "python3"
  },
  "language_info": {
   "codemirror_mode": {
    "name": "ipython",
    "version": 3
   },
   "file_extension": ".py",
   "mimetype": "text/x-python",
   "name": "python",
   "nbconvert_exporter": "python",
   "pygments_lexer": "ipython3",
   "version": "3.6.5"
  }
 },
 "nbformat": 4,
 "nbformat_minor": 2
}
