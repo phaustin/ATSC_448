{
 "cells": [
  {
   "cell_type": "code",
   "execution_count": 59,
   "metadata": {},
   "outputs": [],
   "source": [
    "import datetime as dt \n",
    "import numpy as np\n",
    "from netCDF4 import Dataset  # http://code.google.com/p/netcdf4-python/\n",
    "import matplotlib.pyplot as plt\n",
    "from pathlib import Path\n",
    "import ncdump\n",
    "import pandas as pd\n",
    "%matplotlib inline\n",
    "#use get geo code from a301_code"
   ]
  },
  {
   "cell_type": "code",
   "execution_count": 60,
   "metadata": {},
   "outputs": [
    {
     "name": "stdout",
     "output_type": "stream",
     "text": [
      "[PosixPath('nsametC1.b1.20031031.000000.cdf'), PosixPath('nsametC1.b1.20031101.000000.cdf'), PosixPath('nsametC1.b1.20031102.000000.cdf')]\n"
     ]
    }
   ],
   "source": [
    "cdf_files = Path().glob(\"*cdf\")\n",
    "cdf_files = list(cdf_files)\n",
    "print(cdf_files)\n",
    "#ncdump(nc_fid)"
   ]
  },
  {
   "cell_type": "code",
   "execution_count": 61,
   "metadata": {},
   "outputs": [],
   "source": [
    "def date_parse(one_date):\n",
    "    dump, level, good_year, zeros, suffix = one_date.split('.')\n",
    "    year, month, day=int(good_year[0:4]), int(good_year[4:6]), int(good_year[6:8])\n",
    "    the_date=datetime.datetime(year=year, month=month, day=day)\n",
    "    return the_date\n",
    "    \n",
    "def create_minute_arr(one_date):\n",
    "    #create date time array for one day in one minute interals\n",
    "    base = date_parse(one_date) #datetime.datetime(yyyy, mm, dd)\n",
    "    date_arr = np.array([base + datetime.timedelta(minutes=i) for i in range(1440)])\n",
    "    return date_arr"
   ]
  },
  {
   "cell_type": "code",
   "execution_count": 73,
   "metadata": {},
   "outputs": [],
   "source": [
    "date_list = []\n",
    "value_list = []\n",
    "for cdf_file in cdf_files:\n",
    "    \n",
    "    cdf_file = str(cdf_file)\n",
    "    \n",
    "    nc_f = cdf_file  #filename\n",
    "    nc_fid = Dataset(nc_f, 'r')  \n",
    "    precip = nc_fid.variables[key][:]\n",
    "    \n",
    "    date_list.append(create_minute_arr(cdf_file))\n",
    "    value_list.append(precip)\n",
    "#     df = pd.DataFrame({\"precip_rate\" : data_arr_to_dict}, \n",
    "#                   index=date_arr_to_dict) \n",
    "\n",
    "#create Data frame readable arrays\n",
    "value_arr = np.array(value_list).flatten()\n",
    "date_arr = np.array(date_list).flatten()\n"
   ]
  },
  {
   "cell_type": "code",
   "execution_count": 85,
   "metadata": {},
   "outputs": [],
   "source": [
    "#create data frame\n",
    "df = pd.DataFrame({\"precip_rate\" : value_arr}, \n",
    "                  index=date_arr) "
   ]
  },
  {
   "cell_type": "code",
   "execution_count": 86,
   "metadata": {
    "scrolled": true
   },
   "outputs": [
    {
     "data": {
      "text/plain": [
       "<matplotlib.axes._subplots.AxesSubplot at 0x122bfda20>"
      ]
     },
     "execution_count": 86,
     "metadata": {},
     "output_type": "execute_result"
    },
    {
     "data": {
      "image/png": "[encoded data removed]",
      "text/plain": [
       "<Figure size 432x288 with 1 Axes>"
      ]
     },
     "metadata": {
      "needs_background": "light"
     },
     "output_type": "display_data"
    }
   ],
   "source": [
    "df.plot()"
   ]
  },
  {
   "cell_type": "code",
   "execution_count": null,
   "metadata": {},
   "outputs": [],
   "source": []
  }
 ],
 "metadata": {
  "celltoolbar": "Raw Cell Format",
  "kernelspec": {
   "display_name": "Python 3",
   "language": "python",
   "name": "python3"
  },
  "language_info": {
   "codemirror_mode": {
    "name": "ipython",
    "version": 3
   },
   "file_extension": ".py",
   "mimetype": "text/x-python",
   "name": "python",
   "nbconvert_exporter": "python",
   "pygments_lexer": "ipython3",
   "version": "3.7.1"
  }
 },
 "nbformat": 4,
 "nbformat_minor": 2
}
